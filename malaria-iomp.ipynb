{
 "cells": [
  {
   "cell_type": "code",
   "execution_count": 1,
   "metadata": {
    "_cell_guid": "b1076dfc-b9ad-4769-8c92-a6c4dae69d19",
    "_uuid": "8f2839f25d086af736a60e9eeb907d3b93b6e0e5",
    "execution": {
     "iopub.execute_input": "2024-09-28T08:22:21.405585Z",
     "iopub.status.busy": "2024-09-28T08:22:21.404477Z",
     "iopub.status.idle": "2024-09-28T08:23:34.638553Z",
     "shell.execute_reply": "2024-09-28T08:23:34.636796Z",
     "shell.execute_reply.started": "2024-09-28T08:22:21.405533Z"
    },
    "trusted": true
   },
   "outputs": [],
   "source": [
    "# This Python 3 environment comes with many helpful analytics libraries installed\n",
    "# It is defined by the kaggle/python Docker image: https://github.com/kaggle/docker-python\n",
    "# For example, here's several helpful packages to load\n",
    "\n",
    "import numpy as np # linear algebra\n",
    "import pandas as pd # data processing, CSV file I/O (e.g. pd.read_csv)\n",
    "\n",
    "# Input data files are available in the read-only \"../input/\" directory\n",
    "# For example, running this (by clicking run or pressing Shift+Enter) will list all files under the input directory\n",
    "\n",
    "import os\n",
    "for dirname, _, filenames in os.walk('/kaggle/input'):\n",
    "    for filename in filenames:\n",
    "        print(os.path.join(dirname, filename))\n",
    "\n",
    "# You can write up to 20GB to the current directory (/kaggle/working/) that gets preserved as output when you create a version using \"Save & Run All\" \n",
    "# You can also write temporary files to /kaggle/temp/, but they won't be saved outside of the current session"
   ]
  },
  {
   "cell_type": "code",
   "execution_count": 2,
   "metadata": {
    "execution": {
     "iopub.execute_input": "2024-09-28T18:15:42.354827Z",
     "iopub.status.busy": "2024-09-28T18:15:42.354396Z",
     "iopub.status.idle": "2024-09-28T18:15:43.537535Z",
     "shell.execute_reply": "2024-09-28T18:15:43.535927Z",
     "shell.execute_reply.started": "2024-09-28T18:15:42.354788Z"
    },
    "trusted": true
   },
   "outputs": [
    {
     "ename": "ModuleNotFoundError",
     "evalue": "No module named 'matplotlib'",
     "output_type": "error",
     "traceback": [
      "\u001b[1;31m---------------------------------------------------------------------------\u001b[0m",
      "\u001b[1;31mModuleNotFoundError\u001b[0m                       Traceback (most recent call last)",
      "Cell \u001b[1;32mIn[2], line 9\u001b[0m\n\u001b[0;32m      6\u001b[0m \u001b[38;5;28;01mimport\u001b[39;00m \u001b[38;5;21;01mos\u001b[39;00m\n\u001b[0;32m      8\u001b[0m \u001b[38;5;66;03m# for ploting graphs\u001b[39;00m\n\u001b[1;32m----> 9\u001b[0m \u001b[38;5;28;01mimport\u001b[39;00m \u001b[38;5;21;01mmatplotlib\u001b[39;00m\u001b[38;5;21;01m.\u001b[39;00m\u001b[38;5;21;01mpyplot\u001b[39;00m \u001b[38;5;28;01mas\u001b[39;00m \u001b[38;5;21;01mplt\u001b[39;00m\n\u001b[0;32m     10\u001b[0m \u001b[38;5;66;03m# advancec ploting\u001b[39;00m\n\u001b[0;32m     11\u001b[0m \u001b[38;5;28;01mimport\u001b[39;00m \u001b[38;5;21;01mseaborn\u001b[39;00m \u001b[38;5;28;01mas\u001b[39;00m \u001b[38;5;21;01msns\u001b[39;00m\n",
      "\u001b[1;31mModuleNotFoundError\u001b[0m: No module named 'matplotlib'"
     ]
    }
   ],
   "source": [
    "# for numerical analysis\n",
    "import numpy as np \n",
    "# to store and process in a dataframe\n",
    "import pandas as pd \n",
    "import glob\n",
    "import os\n",
    "\n",
    "# for ploting graphs\n",
    "import matplotlib.pyplot as plt\n",
    "# advancec ploting\n",
    "import seaborn as sns\n",
    "\n",
    "# image processing\n",
    "import matplotlib.image as mpimg\n",
    "\n",
    "# train test split\n",
    "from sklearn.model_selection import train_test_split\n",
    "# model performance metrics\n",
    "from sklearn.metrics import confusion_matrix, classification_report\n",
    "\n",
    "# utility functions\n",
    "from tensorflow.keras.utils import to_categorical, plot_model\n",
    "# process image\n",
    "from tensorflow.keras.preprocessing.image import ImageDataGenerator, load_img\n",
    "# sequential model\n",
    "from tensorflow.keras.models import Sequential\n",
    "# layers\n",
    "from tensorflow.keras.layers import Conv2D, MaxPooling2D, Dense, Flatten, Dropout\n",
    "# callback functions\n",
    "from tensorflow.keras.callbacks import EarlyStopping, ModelCheckpoint, LearningRateScheduler"
   ]
  },
  {
   "cell_type": "code",
   "execution_count": 3,
   "metadata": {
    "execution": {
     "iopub.execute_input": "2024-09-28T18:16:08.501260Z",
     "iopub.status.busy": "2024-09-28T18:16:08.500712Z",
     "iopub.status.idle": "2024-09-28T18:16:08.511454Z",
     "shell.execute_reply": "2024-09-28T18:16:08.509877Z",
     "shell.execute_reply.started": "2024-09-28T18:16:08.501196Z"
    },
    "trusted": true
   },
   "outputs": [
    {
     "ename": "FileNotFoundError",
     "evalue": "[WinError 3] The system cannot find the path specified: '../input/cell-images-for-detecting-malaria/cell_images/cell_images'",
     "output_type": "error",
     "traceback": [
      "\u001b[1;31m---------------------------------------------------------------------------\u001b[0m",
      "\u001b[1;31mFileNotFoundError\u001b[0m                         Traceback (most recent call last)",
      "Cell \u001b[1;32mIn[3], line 2\u001b[0m\n\u001b[0;32m      1\u001b[0m \u001b[38;5;66;03m# list of files in the dataset\u001b[39;00m\n\u001b[1;32m----> 2\u001b[0m \u001b[43mos\u001b[49m\u001b[38;5;241;43m.\u001b[39;49m\u001b[43mlistdir\u001b[49m\u001b[43m(\u001b[49m\u001b[38;5;124;43m'\u001b[39;49m\u001b[38;5;124;43m../input/cell-images-for-detecting-malaria/cell_images/cell_images\u001b[39;49m\u001b[38;5;124;43m'\u001b[39;49m\u001b[43m)\u001b[49m\n",
      "\u001b[1;31mFileNotFoundError\u001b[0m: [WinError 3] The system cannot find the path specified: '../input/cell-images-for-detecting-malaria/cell_images/cell_images'"
     ]
    }
   ],
   "source": [
    "# list of files in the dataset\n",
    "os.listdir('../input/cell-images-for-detecting-malaria/cell_images/cell_images')"
   ]
  },
  {
   "cell_type": "code",
   "execution_count": null,
   "metadata": {
    "execution": {
     "iopub.execute_input": "2024-09-28T18:16:11.907642Z",
     "iopub.status.busy": "2024-09-28T18:16:11.907175Z",
     "iopub.status.idle": "2024-09-28T18:16:13.287078Z",
     "shell.execute_reply": "2024-09-28T18:16:13.285644Z",
     "shell.execute_reply.started": "2024-09-28T18:16:11.907601Z"
    },
    "trusted": true
   },
   "outputs": [],
   "source": [
    "# list all the images in the directory Parasitized\n",
    "parasitized = glob.glob('../input/cell-images-for-detecting-malaria/cell_images/cell_images/Parasitized/*.png')\n",
    "\n",
    "# no. of files in the directory Parasitized\n",
    "print('No. of files in the directory Parasitized', len(parasitized))\n",
    "\n",
    "# first few images\n",
    "parasitized[:5]"
   ]
  },
  {
   "cell_type": "code",
   "execution_count": null,
   "metadata": {
    "execution": {
     "iopub.execute_input": "2024-09-28T18:16:14.344656Z",
     "iopub.status.busy": "2024-09-28T18:16:14.344245Z",
     "iopub.status.idle": "2024-09-28T18:16:15.734718Z",
     "shell.execute_reply": "2024-09-28T18:16:15.731781Z",
     "shell.execute_reply.started": "2024-09-28T18:16:14.344617Z"
    },
    "trusted": true
   },
   "outputs": [],
   "source": [
    "# list all the images in the directory Uninfected\n",
    "uninfected = glob.glob('../input/cell-images-for-detecting-malaria/cell_images/cell_images/Uninfected/*.png')\n",
    "\n",
    "# no. of files in the directory Uninfected\n",
    "print('No. of files in the directory Uninfected', len(uninfected))\n",
    "\n",
    "# first few images\n",
    "uninfected[:5]"
   ]
  },
  {
   "cell_type": "code",
   "execution_count": null,
   "metadata": {
    "execution": {
     "iopub.execute_input": "2024-09-28T18:16:16.026097Z",
     "iopub.status.busy": "2024-09-28T18:16:16.025649Z",
     "iopub.status.idle": "2024-09-28T18:16:17.847615Z",
     "shell.execute_reply": "2024-09-28T18:16:17.846144Z",
     "shell.execute_reply.started": "2024-09-28T18:16:16.026049Z"
    },
    "trusted": true
   },
   "outputs": [],
   "source": [
    "fig, ax = plt.subplots(figsize=(18, 8))\n",
    "fig.suptitle('Parasitized cells', fontsize=24)\n",
    "\n",
    "for ind, img_src in enumerate(parasitized[:30]):\n",
    "    plt.subplot(3, 10, ind+1)\n",
    "    img = plt.imread(img_src)\n",
    "    plt.axis('off')\n",
    "    plt.imshow(img)"
   ]
  },
  {
   "cell_type": "code",
   "execution_count": null,
   "metadata": {
    "execution": {
     "iopub.execute_input": "2024-09-28T18:16:18.184251Z",
     "iopub.status.busy": "2024-09-28T18:16:18.183766Z",
     "iopub.status.idle": "2024-09-28T18:16:20.152919Z",
     "shell.execute_reply": "2024-09-28T18:16:20.151506Z",
     "shell.execute_reply.started": "2024-09-28T18:16:18.184208Z"
    },
    "trusted": true
   },
   "outputs": [],
   "source": [
    "fig, ax = plt.subplots(figsize=(18, 8))\n",
    "fig.suptitle('Uninfected cells', fontsize=24)\n",
    "\n",
    "for ind, img_src in enumerate(uninfected[:30]):\n",
    "    plt.subplot(3, 10, ind+1)\n",
    "    img = plt.imread(img_src)\n",
    "    plt.axis('off')\n",
    "    plt.imshow(img)"
   ]
  },
  {
   "cell_type": "code",
   "execution_count": null,
   "metadata": {
    "execution": {
     "iopub.execute_input": "2024-09-28T18:16:20.155050Z",
     "iopub.status.busy": "2024-09-28T18:16:20.154702Z",
     "iopub.status.idle": "2024-09-28T18:16:20.160621Z",
     "shell.execute_reply": "2024-09-28T18:16:20.159470Z",
     "shell.execute_reply.started": "2024-09-28T18:16:20.155016Z"
    },
    "trusted": true
   },
   "outputs": [],
   "source": [
    "BATCH_SIZE = 100  # Number of training examples to process before updating our models variables\n",
    "IMG_SHAPE  = 150  # Our training data consists of images with width of 150 pixels and height of 150 pixels\n",
    "TARGET_SIZE = 64\n",
    "EPOCHS = 10"
   ]
  },
  {
   "cell_type": "code",
   "execution_count": null,
   "metadata": {
    "execution": {
     "iopub.execute_input": "2024-09-28T18:16:22.699923Z",
     "iopub.status.busy": "2024-09-28T18:16:22.699528Z",
     "iopub.status.idle": "2024-09-28T18:16:22.973906Z",
     "shell.execute_reply": "2024-09-28T18:16:22.972755Z",
     "shell.execute_reply.started": "2024-09-28T18:16:22.699889Z"
    },
    "trusted": true
   },
   "outputs": [],
   "source": [
    "model = Sequential()\n",
    "\n",
    "model.add(Conv2D(32, (3,3), activation='relu', input_shape=(IMG_SHAPE, IMG_SHAPE, 3)))\n",
    "model.add(MaxPooling2D(2,2))\n",
    "\n",
    "model.add(Conv2D(64, (3,3), activation='relu'))\n",
    "model.add(MaxPooling2D(2,2))\n",
    "\n",
    "model.add(Conv2D(128, (3,3), activation='relu'))\n",
    "model.add(MaxPooling2D(2,2))\n",
    "\n",
    "model.add(Flatten())\n",
    "\n",
    "model.add(Dropout(0.2))\n",
    "model.add(Dense(128, activation='relu'))\n",
    "\n",
    "model.add(Dropout(0.2))\n",
    "model.add(Dense(1, activation='sigmoid'))\n",
    "\n",
    "model.compile(optimizer='adam',\n",
    "              loss='binary_crossentropy',\n",
    "              metrics=['accuracy'])\n",
    "\n",
    "model.summary()"
   ]
  },
  {
   "cell_type": "code",
   "execution_count": null,
   "metadata": {
    "execution": {
     "iopub.execute_input": "2024-09-28T18:16:24.645605Z",
     "iopub.status.busy": "2024-09-28T18:16:24.645146Z",
     "iopub.status.idle": "2024-09-28T18:16:25.017620Z",
     "shell.execute_reply": "2024-09-28T18:16:25.016333Z",
     "shell.execute_reply.started": "2024-09-28T18:16:24.645566Z"
    },
    "trusted": true
   },
   "outputs": [],
   "source": [
    "plt.figure(figsize=(5, 10))\n",
    "plot_model(model, to_file=\"model.png\")"
   ]
  },
  {
   "cell_type": "code",
   "execution_count": null,
   "metadata": {
    "execution": {
     "iopub.execute_input": "2024-09-28T18:17:18.191818Z",
     "iopub.status.busy": "2024-09-28T18:17:18.191379Z",
     "iopub.status.idle": "2024-09-28T18:17:24.950861Z",
     "shell.execute_reply": "2024-09-28T18:17:24.949661Z",
     "shell.execute_reply.started": "2024-09-28T18:17:18.191777Z"
    },
    "trusted": true
   },
   "outputs": [],
   "source": [
    "datagen = ImageDataGenerator(rescale=1./255,\n",
    "                             zoom_range=0.2,\n",
    "                             horizontal_flip=True,\n",
    "                             vertical_flip=True,\n",
    "                             width_shift_range=0.2,\n",
    "                             height_shift_range=0.2,\n",
    "                             validation_split=0.3)\n",
    "\n",
    "train_data = datagen.flow_from_directory('../input/cell-images-for-detecting-malaria/cell_images/cell_images',\n",
    "                                         target_size=(IMG_SHAPE,IMG_SHAPE),\n",
    "                                         batch_size=BATCH_SIZE,\n",
    "                                         shuffle=True,\n",
    "                                         class_mode='binary',\n",
    "                                         subset='training')\n",
    "\n",
    "validation_data = datagen.flow_from_directory('../input/cell-images-for-detecting-malaria/cell_images/cell_images',\n",
    "                                              target_size=(IMG_SHAPE,IMG_SHAPE),\n",
    "                                              batch_size=BATCH_SIZE,\n",
    "                                              shuffle=True,\n",
    "                                              class_mode='binary',\n",
    "                                              subset='validation')"
   ]
  },
  {
   "cell_type": "code",
   "execution_count": null,
   "metadata": {
    "execution": {
     "iopub.execute_input": "2024-09-28T18:17:24.953248Z",
     "iopub.status.busy": "2024-09-28T18:17:24.952832Z",
     "iopub.status.idle": "2024-09-28T18:17:24.959760Z",
     "shell.execute_reply": "2024-09-28T18:17:24.958308Z",
     "shell.execute_reply.started": "2024-09-28T18:17:24.953198Z"
    },
    "trusted": true
   },
   "outputs": [],
   "source": [
    "from keras.callbacks import EarlyStopping, ModelCheckpoint\n",
    "\n",
    "# Instantiate an early stopping callback\n",
    "early_stopping = EarlyStopping(monitor='val_loss', \n",
    "                               min_delta=0.01,\n",
    "                               patience=5)\n",
    "\n",
    "# Instantiate a model checkpoint callback\n",
    "model_save = ModelCheckpoint('best_model.keras',\n",
    "                             monitor='val_loss',\n",
    "                             mode='min',\n",
    "                             save_best_only=True)\n"
   ]
  },
  {
   "cell_type": "code",
   "execution_count": null,
   "metadata": {
    "execution": {
     "iopub.execute_input": "2024-09-28T18:17:43.114379Z",
     "iopub.status.busy": "2024-09-28T18:17:43.113900Z",
     "iopub.status.idle": "2024-09-28T18:42:44.769231Z",
     "shell.execute_reply": "2024-09-28T18:42:44.766875Z",
     "shell.execute_reply.started": "2024-09-28T18:17:43.114340Z"
    },
    "trusted": true
   },
   "outputs": [],
   "source": [
    "history = model.fit(train_data,\n",
    "                    validation_data=validation_data,\n",
    "                    epochs=EPOCHS,\n",
    "                    verbose=1, \n",
    "                    callbacks=[early_stopping, model_save])"
   ]
  },
  {
   "cell_type": "code",
   "execution_count": null,
   "metadata": {
    "execution": {
     "iopub.execute_input": "2024-09-28T18:17:30.935611Z",
     "iopub.status.busy": "2024-09-28T18:17:30.935177Z",
     "iopub.status.idle": "2024-09-28T18:17:31.183573Z",
     "shell.execute_reply": "2024-09-28T18:17:31.181842Z",
     "shell.execute_reply.started": "2024-09-28T18:17:30.935574Z"
    },
    "trusted": true
   },
   "outputs": [],
   "source": [
    "plt.figure(figsize=(14, 5))\n",
    "\n",
    "plt.subplot(1, 2, 1)\n",
    "plt.plot(history.history['accuracy'], label='Training Accuracy')\n",
    "plt.plot(history.history['val_accuracy'], label='Validation Accuracy')\n",
    "plt.legend(loc='lower right')\n",
    "plt.title('Training and Validation Accuracy')\n",
    "\n",
    "plt.subplot(1, 2, 2)\n",
    "plt.plot(history.history['loss'], label='Training Loss')\n",
    "plt.plot(history.history['val_loss'], label='Validation Loss')\n",
    "plt.legend(loc='upper right')\n",
    "plt.title('Training and Validation Loss')\n",
    "\n",
    "plt.show()"
   ]
  },
  {
   "cell_type": "code",
   "execution_count": null,
   "metadata": {
    "execution": {
     "iopub.execute_input": "2024-09-28T18:15:22.010042Z",
     "iopub.status.busy": "2024-09-28T18:15:22.009569Z",
     "iopub.status.idle": "2024-09-28T18:15:22.046751Z",
     "shell.execute_reply": "2024-09-28T18:15:22.045234Z",
     "shell.execute_reply.started": "2024-09-28T18:15:22.010003Z"
    },
    "trusted": true
   },
   "outputs": [],
   "source": [
    "model.save('malaria_detection_model.h5')\n"
   ]
  },
  {
   "cell_type": "code",
   "execution_count": null,
   "metadata": {
    "execution": {
     "iopub.execute_input": "2024-09-28T09:57:16.207344Z",
     "iopub.status.busy": "2024-09-28T09:57:16.206924Z",
     "iopub.status.idle": "2024-09-28T09:57:16.368866Z",
     "shell.execute_reply": "2024-09-28T09:57:16.367899Z",
     "shell.execute_reply.started": "2024-09-28T09:57:16.207305Z"
    },
    "trusted": true
   },
   "outputs": [],
   "source": [
    "from tensorflow.keras.models import load_model\n",
    "\n",
    "model = load_model('malaria_detection_model.h5')"
   ]
  },
  {
   "cell_type": "markdown",
   "metadata": {},
   "source": []
  },
  {
   "cell_type": "code",
   "execution_count": null,
   "metadata": {
    "execution": {
     "iopub.execute_input": "2024-09-28T18:14:03.297289Z",
     "iopub.status.busy": "2024-09-28T18:14:03.296691Z",
     "iopub.status.idle": "2024-09-28T18:14:20.723764Z",
     "shell.execute_reply": "2024-09-28T18:14:20.720259Z",
     "shell.execute_reply.started": "2024-09-28T18:14:03.297231Z"
    },
    "trusted": true
   },
   "outputs": [],
   "source": [
    "import numpy as np\n",
    "from tensorflow.keras.models import load_model\n",
    "from tensorflow.keras.preprocessing.image import load_img, img_to_array\n",
    "\n",
    "# Load the trained model\n",
    "model = load_model('best_model.keras')\n",
    "\n",
    "# Function to predict the class of an image\n",
    "def predict_image(image_path):\n",
    "    # Load and preprocess the image\n",
    "    IMG_SHAPE = 150  # Match the input shape used during training\n",
    "    image = load_img(image_path, target_size=(IMG_SHAPE, IMG_SHAPE))  # Resize to match training size\n",
    "    image = img_to_array(image)  # Convert the image to a numpy array\n",
    "    image = np.expand_dims(image, axis=0)  # Add a batch dimension\n",
    "    image = image / 255.0  # Normalize the image (same normalization as during training)\n",
    "\n",
    "    # Make a prediction\n",
    "    prediction = model.predict(image)\n",
    "    \n",
    "    # Check the class indices and adjust accordingly\n",
    "    predicted_class = 'Uninfected' if prediction[0][0] > 0.5 else 'Parasitized'\n",
    "\n",
    "    return predicted_class\n",
    "\n",
    "# Example usage\n",
    "image_path = '/kaggle/input/cell-images-for-detecting-malaria/cell_images/Uninfected/C100P61ThinF_IMG_20150918_145042_cell_161.png'  # Replace with your actual image path\n",
    "result = predict_image(image_path)\n",
    "print(f\"The model predicts that the cell is: {result}\")\n"
   ]
  },
  {
   "cell_type": "code",
   "execution_count": null,
   "metadata": {},
   "outputs": [],
   "source": []
  }
 ],
 "metadata": {
  "kaggle": {
   "accelerator": "none",
   "dataSources": [
    {
     "datasetId": 87153,
     "sourceId": 200743,
     "sourceType": "datasetVersion"
    }
   ],
   "dockerImageVersionId": 30775,
   "isGpuEnabled": false,
   "isInternetEnabled": false,
   "language": "python",
   "sourceType": "notebook"
  },
  "kernelspec": {
   "display_name": "Python 3",
   "language": "python",
   "name": "python3"
  },
  "language_info": {
   "codemirror_mode": {
    "name": "ipython",
    "version": 3
   },
   "file_extension": ".py",
   "mimetype": "text/x-python",
   "name": "python",
   "nbconvert_exporter": "python",
   "pygments_lexer": "ipython3",
   "version": "3.9.12"
  }
 },
 "nbformat": 4,
 "nbformat_minor": 4
}
